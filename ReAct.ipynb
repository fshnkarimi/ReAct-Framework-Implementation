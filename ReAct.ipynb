{
  "nbformat": 4,
  "nbformat_minor": 0,
  "metadata": {
    "colab": {
      "provenance": [],
      "authorship_tag": "ABX9TyNyq4H1e4T5+kVf6zZN+JWy",
      "include_colab_link": true
    },
    "kernelspec": {
      "name": "python3",
      "display_name": "Python 3"
    },
    "language_info": {
      "name": "python"
    }
  },
  "cells": [
    {
      "cell_type": "markdown",
      "metadata": {
        "id": "view-in-github",
        "colab_type": "text"
      },
      "source": [
        "<a href=\"https://colab.research.google.com/github/fshnkarimi/ReAct-Framework-Implementation/blob/main/ReAct.ipynb\" target=\"_parent\"><img src=\"https://colab.research.google.com/assets/colab-badge.svg\" alt=\"Open In Colab\"/></a>"
      ]
    },
    {
      "cell_type": "code",
      "source": [
        "import os\n",
        "\n",
        "# Set the environment variable\n",
        "os.environ[\"OPENAI_API_KEY\"] = \"YOUR_OPENAI_API_KEY\"\n",
        "os.environ[\"SERPER_API_KEY\"] = \"YOUR_SERPER_API_KEY\""
      ],
      "metadata": {
        "id": "Ch0Roizx5yjg"
      },
      "execution_count": 7,
      "outputs": []
    },
    {
      "cell_type": "code",
      "execution_count": 8,
      "metadata": {
        "id": "CdUaS8-N3uD-"
      },
      "outputs": [],
      "source": [
        "%%capture\n",
        "# update or install the necessary libraries\n",
        "!pip install --upgrade openai\n",
        "!pip install --upgrade langchain\n",
        "!pip install --upgrade python-dotenv\n",
        "!pip install google-search-results\n",
        "\n",
        "# import libraries\n",
        "import openai\n",
        "import os\n",
        "from langchain.llms import OpenAI\n",
        "from langchain.agents import load_tools\n",
        "from langchain.agents import initialize_agent\n",
        "from dotenv import load_dotenv\n",
        "load_dotenv()\n"
      ]
    },
    {
      "cell_type": "code",
      "source": [
        "llm = OpenAI(model_name=\"gpt-3.5-turbo\" ,temperature=0)\n",
        "tools = load_tools([\"google-serper\", \"llm-math\"], llm=llm)\n",
        "agent = initialize_agent(tools, llm, agent=\"zero-shot-react-description\", verbose=True)"
      ],
      "metadata": {
        "colab": {
          "base_uri": "https://localhost:8080/"
        },
        "id": "OC0tDP5m43yr",
        "outputId": "024aa4ba-4904-4223-b18c-371a53192ea2"
      },
      "execution_count": 17,
      "outputs": [
        {
          "output_type": "stream",
          "name": "stderr",
          "text": [
            "/usr/local/lib/python3.10/dist-packages/langchain/llms/openai.py:200: UserWarning: You are trying to use a chat model. This way of initializing it is no longer supported. Instead, please use: `from langchain.chat_models import ChatOpenAI`\n",
            "  warnings.warn(\n",
            "/usr/local/lib/python3.10/dist-packages/langchain/llms/openai.py:787: UserWarning: You are trying to use a chat model. This way of initializing it is no longer supported. Instead, please use: `from langchain.chat_models import ChatOpenAI`\n",
            "  warnings.warn(\n"
          ]
        }
      ]
    },
    {
      "cell_type": "code",
      "source": [
        "# run the agent\n",
        "agent.run(\"What is Ronaldo's current team? How much is his salary in this team?\")"
      ],
      "metadata": {
        "colab": {
          "base_uri": "https://localhost:8080/",
          "height": 316
        },
        "id": "QtKexw7P5ta5",
        "outputId": "46b49552-180c-4c1b-a925-4b9dd60dd623"
      },
      "execution_count": 19,
      "outputs": [
        {
          "output_type": "stream",
          "name": "stdout",
          "text": [
            "\n",
            "\n",
            "\u001b[1m> Entering new AgentExecutor chain...\u001b[0m\n",
            "\u001b[32;1m\u001b[1;3mI can use the Google Search API to find Ronaldo's current team. Once I know his team, I can search for his salary in that team.\n",
            "Action: google_serper\n",
            "Action Input: \"Ronaldo current team\"\u001b[0m\n",
            "Observation: \u001b[36;1m\u001b[1;3mWith Real, Ronaldo won four Champions Leagues, two La Liga titles, two Copas del Rey, two UEFA Super Cups and three Club World Cups. Cristiano Ronaldo, 38, from Portugal ➤ Al-Nassr FC, since 2022 ➤ Attack ➤ Market value: €15.00m ➤ * Feb 5, 1985 in Funchal, Portugal. Portugal captain has joined the Riyadh-based side on a deal until June 2025. ... Saudi Arabian football club Al Nassr has announced the signing of ... Cristiano Ronaldo's current club is Saudi Arabian club Al Nassr. He recently joined the Saudi Arabian club on a two-and-a-half-year contract ... Career ; 2018/2019 · Juventus · SEA, 2689, 31 ; 2017/2018 · Real Madrid · LAL, 2298, 27 ... Ronaldo played for the Red Devils, Manchester United in the Premier League under Sir Alex Ferguson. SAF scouted Cristiano to United after impressing him with ... All you need to know about Al-Nassr, Cristiano Ronaldo's new club and one of the most prominent teams in Saudi Arabia. RIYADH, SAUDI ARABIA - ... Cristiano Ronaldo has joined Saudi Arabian club Al Nassr on a two-year contract. The 37-year-old left Manchester United last month following an ... Cristiano Ronaldo will play for Al-Nassr from January 1, 2023. The Portuguese footballer will join on a two-and-a-half-year contract with ...\u001b[0m\n",
            "Thought:\u001b[32;1m\u001b[1;3mI now know Ronaldo's current team is Al Nassr. Now I can search for his salary in this team.\n",
            "Action: google_serper\n",
            "Action Input: \"Ronaldo salary Al Nassr\"\u001b[0m\n",
            "Observation: \u001b[36;1m\u001b[1;3m200 million GBP\u001b[0m\n",
            "Thought:\u001b[32;1m\u001b[1;3mI now know Ronaldo's current team is Al Nassr and his salary in this team is 200 million GBP.\n",
            "Final Answer: Ronaldo's current team is Al Nassr and his salary in this team is 200 million GBP.\u001b[0m\n",
            "\n",
            "\u001b[1m> Finished chain.\u001b[0m\n"
          ]
        },
        {
          "output_type": "execute_result",
          "data": {
            "text/plain": [
              "\"Ronaldo's current team is Al Nassr and his salary in this team is 200 million GBP.\""
            ],
            "application/vnd.google.colaboratory.intrinsic+json": {
              "type": "string"
            }
          },
          "metadata": {},
          "execution_count": 19
        }
      ]
    },
    {
      "cell_type": "code",
      "source": [
        "# run the agent\n",
        "agent.run(\"What is Gemini in Google?\")"
      ],
      "metadata": {
        "colab": {
          "base_uri": "https://localhost:8080/",
          "height": 246
        },
        "id": "uhwtXnWN8GgB",
        "outputId": "6f2df7b9-fd78-42f0-e3d0-d1ab4dd7f953"
      },
      "execution_count": 22,
      "outputs": [
        {
          "output_type": "stream",
          "name": "stdout",
          "text": [
            "\n",
            "\n",
            "\u001b[1m> Entering new AgentExecutor chain...\u001b[0m\n",
            "\u001b[32;1m\u001b[1;3mI should use the google_serper tool to search for information about Gemini in Google.\n",
            "Action: google_serper\n",
            "Action Input: \"Gemini in Google\"\u001b[0m\n",
            "Observation: \u001b[36;1m\u001b[1;3mWhat is Google Gemini? Gemini is a set of large language models (LLMs) that combine GPT-4 with training techniques taken from AlphaGo, such as reinforcement learning and tree search, which has the potential to unseat ChatGPT as the most dominant generative AI solution on the planet.\u001b[0m\n",
            "Thought:\u001b[32;1m\u001b[1;3mI now know the final answer\n",
            "Final Answer: Gemini in Google refers to a set of large language models that combine GPT-4 with training techniques taken from AlphaGo.\u001b[0m\n",
            "\n",
            "\u001b[1m> Finished chain.\u001b[0m\n"
          ]
        },
        {
          "output_type": "execute_result",
          "data": {
            "text/plain": [
              "'Gemini in Google refers to a set of large language models that combine GPT-4 with training techniques taken from AlphaGo.'"
            ],
            "application/vnd.google.colaboratory.intrinsic+json": {
              "type": "string"
            }
          },
          "metadata": {},
          "execution_count": 22
        }
      ]
    },
    {
      "cell_type": "code",
      "source": [],
      "metadata": {
        "id": "YzUDL5T1-lqC"
      },
      "execution_count": null,
      "outputs": []
    }
  ]
}